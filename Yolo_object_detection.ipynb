{
 "cells": [
  {
   "cell_type": "code",
   "execution_count": 26,
   "id": "42445b62",
   "metadata": {},
   "outputs": [],
   "source": [
    "import cv2\n",
    "import numpy as np \n",
    "import argparse\n",
    "import time\n",
    "import pandas as pd"
   ]
  },
  {
   "cell_type": "code",
   "execution_count": 27,
   "id": "10df666e",
   "metadata": {},
   "outputs": [],
   "source": [
    "def load_yolo():\n",
    "    net = cv2.dnn.readNet(\"yolov3.weights\", \"yolov3.cfg\")\n",
    "    classes = []\n",
    "    with open(\"coco.names\", \"r\") as f:\n",
    "        classes = [line.strip() for line in f.readlines()] \n",
    "\n",
    "    output_layers = [layer_name for layer_name in net.getUnconnectedOutLayersNames()]\n",
    "    colors = np.random.uniform(0, 255, size=(len(classes), 3))\n",
    "    return net, classes, colors, output_layers"
   ]
  },
  {
   "cell_type": "code",
   "execution_count": 28,
   "id": "56f4ae53",
   "metadata": {},
   "outputs": [],
   "source": [
    "def load_image(img_path):\n",
    "    # image loading\n",
    "    img = cv2.imread(img_path)\n",
    "    img = cv2.resize(img, None, fx=0.4, fy=0.4)\n",
    "    height, width, channels = img.shape\n",
    "    return img, height, width, channels"
   ]
  },
  {
   "cell_type": "code",
   "execution_count": 29,
   "id": "d183f279",
   "metadata": {},
   "outputs": [],
   "source": [
    "def detect_objects(img, net, outputLayers):\n",
    "    blob = cv2.dnn.blobFromImage(img, scalefactor=0.00392, size=(320, 320), mean=(0, 0, 0), swapRB=True, crop=False)\n",
    "    net.setInput(blob)\n",
    "    outputs = net.forward(outputLayers)\n",
    "    return blob, outputs"
   ]
  },
  {
   "cell_type": "code",
   "execution_count": 30,
   "id": "1f6dcc3d",
   "metadata": {},
   "outputs": [],
   "source": [
    "def get_box_dimensions(outputs, height, width):\n",
    "    boxes = []\n",
    "    confs = []\n",
    "    class_ids = []\n",
    "    for output in outputs:\n",
    "        for detect in output:\n",
    "            scores = detect[5:]\n",
    "            class_id = np.argmax(scores)\n",
    "            conf = scores[class_id]\n",
    "            if conf > 0.5:\n",
    "                center_x = int(detect[0] * width)\n",
    "                center_y = int(detect[1] * height)\n",
    "                w = int(detect[2] * width)\n",
    "                h = int(detect[3] * height)\n",
    "                x = int(center_x - w/2)\n",
    "                y = int(center_y - h / 2)\n",
    "                boxes.append([x, y, w, h])\n",
    "                confs.append(float(conf))\n",
    "                class_ids.append(class_id)\n",
    "    return boxes, confs, class_ids"
   ]
  },
  {
   "cell_type": "code",
   "execution_count": 31,
   "id": "91098996",
   "metadata": {},
   "outputs": [],
   "source": [
    "def draw_labels(boxes, confs, colors, class_ids, classes, img): \n",
    "    indexes = cv2.dnn.NMSBoxes(boxes, confs, 0.5, 0.4)\n",
    "    font = cv2.FONT_HERSHEY_PLAIN\n",
    "    \n",
    "    person=0\n",
    "    car=0\n",
    "    suitcase=0\n",
    "    traffic=0\n",
    "    handbag=0\n",
    "    maxi=[]\n",
    "    timestamp = []\n",
    "    for i in indexes.flatten():\n",
    "        cmax=0\n",
    "        labels = str(classes[class_ids[i]])\n",
    "        if labels == 'person':\n",
    "            person+=1\n",
    "        if labels == 'car':\n",
    "            car+=1\n",
    "        if labels == 'suitcase':\n",
    "            suitcase+=1\n",
    "        if labels == 'traffic light':\n",
    "            traffic+=1\n",
    "        if labels == 'handbag':\n",
    "            handbag+=1\n",
    "        cmax = person + car + suitcase + traffic + handbag\n",
    "        maxi.append(cmax)\n",
    "    \n",
    "    for i in range(len(boxes)):\n",
    "        if i in indexes:\n",
    "            x, y, w, h = boxes[i]\n",
    "            label = str(classes[class_ids[i]])\n",
    "            color = colors[i]\n",
    "            cv2.rectangle(img, (x,y), (x+w, y+h), color, 2)\n",
    "            cv2.putText(img, label, (x, y - 5), font, 1, color, 1)\n",
    "            cv2.putText(img,'Person'+\":\"+str(person),(20,20), font, 0.8, (0,0,0), 2)\n",
    "            cv2.putText(img,'car'+\":\"+str(car),(20,50), font, 0.8, (0,0,0), 2)\n",
    "            cv2.putText(img,'Suitcase'+\":\"+str(suitcase),(20,80), font, 0.8, (0,0,0), 2)\n",
    "            cv2.putText(img,'Traffic light'+\":\"+str(traffic),(20,110), font, 0.8, (0,0,0), 2)\n",
    "            cv2.putText(img,'Handbag'+\":\"+str(handbag),(20,140), font, 0.8, (0,0,0), 2)\n",
    "            \n",
    "    out.write(img)        \n",
    "    cv2.imshow(\"Image\", img)\n",
    "    return max(maxi)"
   ]
  },
  {
   "cell_type": "code",
   "execution_count": 32,
   "id": "20c28488",
   "metadata": {},
   "outputs": [
    {
     "name": "stdout",
     "output_type": "stream",
     "text": [
      "Maximum detection of objects at a particular frame is -  12\n"
     ]
    }
   ],
   "source": [
    "model, classes, colors, output_layers = load_yolo()\n",
    "cap = cv2.VideoCapture('pedestrians.mp4')\n",
    "\n",
    "width = int(cap.get(cv2.CAP_PROP_FRAME_WIDTH) + 0.5)\n",
    "height = int(cap.get(cv2.CAP_PROP_FRAME_HEIGHT) + 0.5)\n",
    "size = (width, height)\n",
    "fourcc = cv2.VideoWriter_fourcc(*'XVID')\n",
    "out = cv2.VideoWriter('pedestrians_output1.avi', fourcc, 20.0, size)\n",
    "maxi=0\n",
    "maximum = []\n",
    "timestamp=[]\n",
    "while True:\n",
    "    istrue, frame = cap.read()\n",
    "    if istrue:\n",
    "        height, width, channels = frame.shape\n",
    "        blob, outputs = detect_objects(frame, model, output_layers)\n",
    "        boxes, confs, class_ids = get_box_dimensions(outputs, height, width)\n",
    "        maxi = draw_labels(boxes, confs, colors, class_ids, classes, frame)\n",
    "        maximum.append(maxi)\n",
    "        timestamp.append(str(cap.get(cv2.CAP_PROP_POS_MSEC)/1000))\n",
    "        if cv2.waitKey(1) & 0xFF==ord('q'):\n",
    "            break\n",
    "    else:\n",
    "        break\n",
    "        \n",
    "print(\"Maximum detection of objects at a particular frame is - \", max(maximum))  \n",
    "\n",
    "cap.release()\n",
    "cv2.destroyAllWindows()"
   ]
  },
  {
   "cell_type": "code",
   "execution_count": 33,
   "id": "c1e81310",
   "metadata": {},
   "outputs": [
    {
     "data": {
      "text/html": [
       "<div>\n",
       "<style scoped>\n",
       "    .dataframe tbody tr th:only-of-type {\n",
       "        vertical-align: middle;\n",
       "    }\n",
       "\n",
       "    .dataframe tbody tr th {\n",
       "        vertical-align: top;\n",
       "    }\n",
       "\n",
       "    .dataframe thead th {\n",
       "        text-align: right;\n",
       "    }\n",
       "</style>\n",
       "<table border=\"1\" class=\"dataframe\">\n",
       "  <thead>\n",
       "    <tr style=\"text-align: right;\">\n",
       "      <th></th>\n",
       "      <th>Maximum Object detection at which seconed</th>\n",
       "    </tr>\n",
       "  </thead>\n",
       "  <tbody>\n",
       "    <tr>\n",
       "      <th>0</th>\n",
       "      <td>0.45879166666666665</td>\n",
       "    </tr>\n",
       "    <tr>\n",
       "      <th>1</th>\n",
       "      <td>1.5849166666666665</td>\n",
       "    </tr>\n",
       "    <tr>\n",
       "      <th>2</th>\n",
       "      <td>7.132124999999999</td>\n",
       "    </tr>\n",
       "  </tbody>\n",
       "</table>\n",
       "</div>"
      ],
      "text/plain": [
       "  Maximum Object detection at which seconed \n",
       "0                        0.45879166666666665\n",
       "1                         1.5849166666666665\n",
       "2                          7.132124999999999"
      ]
     },
     "execution_count": 33,
     "metadata": {},
     "output_type": "execute_result"
    }
   ],
   "source": [
    "timestamp_of_maximum_object_detection = []\n",
    "\n",
    "for i , j in zip(maximum, timestamp):\n",
    "    if i == max(maximum):\n",
    "        timestamp_of_maximum_object_detection.append(j)\n",
    "\n",
    "final_table = pd.DataFrame()        \n",
    "final_table['Maximum Object detection at which seconed '] = timestamp_of_maximum_object_detection\n",
    "final_table"
   ]
  }
 ],
 "metadata": {
  "kernelspec": {
   "display_name": "Python 3",
   "language": "python",
   "name": "python3"
  },
  "language_info": {
   "codemirror_mode": {
    "name": "ipython",
    "version": 3
   },
   "file_extension": ".py",
   "mimetype": "text/x-python",
   "name": "python",
   "nbconvert_exporter": "python",
   "pygments_lexer": "ipython3",
   "version": "3.9.4"
  }
 },
 "nbformat": 4,
 "nbformat_minor": 5
}
